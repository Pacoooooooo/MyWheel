{
 "cells": [
  {
   "cell_type": "code",
   "execution_count": 13,
   "metadata": {},
   "outputs": [],
   "source": [
    "import scipy.io as sio\n",
    "import numpy as np"
   ]
  },
  {
   "cell_type": "code",
   "execution_count": 14,
   "metadata": {},
   "outputs": [],
   "source": [
    "def getAcc(filename):\n",
    "    load_fn = filename\n",
    "    load_data = sio.loadmat(load_fn)\n",
    "    acc  = load_data['accuracy'] \n",
    "    #print(acc)\n",
    "    accuracy = acc[0][0]\n",
    "    return accuracy\n"
   ]
  },
  {
   "cell_type": "code",
   "execution_count": 3,
   "metadata": {},
   "outputs": [],
   "source": [
    " "
   ]
  },
  {
   "cell_type": "code",
   "execution_count": 9,
   "metadata": {},
   "outputs": [
    {
     "name": "stdout",
     "output_type": "stream",
     "text": [
      "86.91666666666666\n"
     ]
    }
   ],
   "source": [
    " "
   ]
  },
  {
   "cell_type": "code",
   "execution_count": 15,
   "metadata": {},
   "outputs": [],
   "source": [
    "import os\n",
    "path = \"./Cache/coil_ntd/\" #文件夹目录\n",
    "files= os.listdir(path) #得到文件夹下的所有文件名称\n",
    "#print(files)\n",
    "#print(type(files))\n",
    "ntdAcc = []\n",
    "for file in files:\n",
    "    #print(type(file))\n",
    "    if '.mat' in file and 'ntd_rd' in file:\n",
    "        filename = path+file\n",
    "        a = getAcc(filename)\n",
    "        ntdAcc.append(a)"
   ]
  },
  {
   "cell_type": "code",
   "execution_count": 16,
   "metadata": {},
   "outputs": [],
   "source": [
    "path = \"./Cache/coil_ntd/\" #文件夹目录\n",
    "files= os.listdir(path) #得到文件夹下的所有文件名称\n",
    "#print(files)\n",
    "#print(type(files))\n",
    "ntd2Acc = []\n",
    "for file in files:\n",
    "    #print(type(file))\n",
    "    if '.mat' in file and 'ntd_alg' in file:\n",
    "        filename = path+file\n",
    "        a = getAcc(filename)\n",
    "        ntd2Acc.append(a)"
   ]
  },
  {
   "cell_type": "code",
   "execution_count": 17,
   "metadata": {},
   "outputs": [],
   "source": [
    "path = \"./Cache/coil_rd_Init_nmd1/\" #文件夹目录\n",
    "files= os.listdir(path) #得到文件夹下的所有文件名称\n",
    "#print(files)\n",
    "#print(type(files))\n",
    "nmd1 = []\n",
    "for file in files:\n",
    "    #print(type(file))\n",
    "    if '.mat' in file :\n",
    "        filename = path+file\n",
    "        #print(filename)\n",
    "        a = getAcc(filename)\n",
    "        #print(a)\n",
    "        nmd1.append(a)"
   ]
  },
  {
   "cell_type": "code",
   "execution_count": 18,
   "metadata": {},
   "outputs": [],
   "source": [
    "path = \"./Cache/coil_rd_Init/\" #文件夹目录\n",
    "files= os.listdir(path) #得到文件夹下的所有文件名称\n",
    "#print(files)\n",
    "#print(type(files))\n",
    "nmd2 = []\n",
    "for file in files:\n",
    "    #print(type(file))\n",
    "    if '.mat' in file :\n",
    "        filename = path+file\n",
    "        a = getAcc(filename)\n",
    "        nmd2.append(a)"
   ]
  },
  {
   "cell_type": "code",
   "execution_count": 19,
   "metadata": {},
   "outputs": [
    {
     "data": {
      "text/plain": [
       "30"
      ]
     },
     "execution_count": 19,
     "metadata": {},
     "output_type": "execute_result"
    }
   ],
   "source": [
    "len(ntdAcc)"
   ]
  },
  {
   "cell_type": "code",
   "execution_count": 20,
   "metadata": {},
   "outputs": [
    {
     "data": {
      "text/plain": [
       "30"
      ]
     },
     "execution_count": 20,
     "metadata": {},
     "output_type": "execute_result"
    }
   ],
   "source": [
    "len(nmd1)"
   ]
  },
  {
   "cell_type": "code",
   "execution_count": 21,
   "metadata": {},
   "outputs": [
    {
     "data": {
      "text/plain": [
       "33"
      ]
     },
     "execution_count": 21,
     "metadata": {},
     "output_type": "execute_result"
    }
   ],
   "source": [
    "len(nmd2)"
   ]
  },
  {
   "cell_type": "code",
   "execution_count": null,
   "metadata": {},
   "outputs": [],
   "source": []
  },
  {
   "cell_type": "code",
   "execution_count": 34,
   "metadata": {},
   "outputs": [
    {
     "name": "stdout",
     "output_type": "stream",
     "text": [
      "<class 'pandas.core.frame.DataFrame'>\n"
     ]
    }
   ],
   "source": [
    "import numpy as np\n",
    "data = np.concatenate((ntdAcc,nmd1,nmd2[1:31]))\n",
    "data = data.reshape(3,30)\n",
    "data = np.transpose(data)\n",
    "import pandas as pd\n",
    "data = pd.DataFrame(data)\n",
    "data.columns = ['ntd_rd','nmd1','nmd2']\n",
    "print(type(data))\n",
    "#data"
   ]
  },
  {
   "cell_type": "code",
   "execution_count": 30,
   "metadata": {},
   "outputs": [
    {
     "data": {
      "text/html": [
       "<div>\n",
       "<style scoped>\n",
       "    .dataframe tbody tr th:only-of-type {\n",
       "        vertical-align: middle;\n",
       "    }\n",
       "\n",
       "    .dataframe tbody tr th {\n",
       "        vertical-align: top;\n",
       "    }\n",
       "\n",
       "    .dataframe thead th {\n",
       "        text-align: right;\n",
       "    }\n",
       "</style>\n",
       "<table border=\"1\" class=\"dataframe\">\n",
       "  <thead>\n",
       "    <tr style=\"text-align: right;\">\n",
       "      <th></th>\n",
       "      <th>ntd_rd</th>\n",
       "      <th>nmd1</th>\n",
       "      <th>nmd2</th>\n",
       "    </tr>\n",
       "  </thead>\n",
       "  <tbody>\n",
       "    <tr>\n",
       "      <th>count</th>\n",
       "      <td>30.000000</td>\n",
       "      <td>30.000000</td>\n",
       "      <td>30.000000</td>\n",
       "    </tr>\n",
       "    <tr>\n",
       "      <th>mean</th>\n",
       "      <td>89.680556</td>\n",
       "      <td>88.980556</td>\n",
       "      <td>89.155556</td>\n",
       "    </tr>\n",
       "    <tr>\n",
       "      <th>std</th>\n",
       "      <td>2.162251</td>\n",
       "      <td>2.589646</td>\n",
       "      <td>3.074952</td>\n",
       "    </tr>\n",
       "    <tr>\n",
       "      <th>min</th>\n",
       "      <td>84.833333</td>\n",
       "      <td>83.166667</td>\n",
       "      <td>81.000000</td>\n",
       "    </tr>\n",
       "    <tr>\n",
       "      <th>25%</th>\n",
       "      <td>87.916667</td>\n",
       "      <td>87.479167</td>\n",
       "      <td>87.270833</td>\n",
       "    </tr>\n",
       "    <tr>\n",
       "      <th>50%</th>\n",
       "      <td>89.625000</td>\n",
       "      <td>89.208333</td>\n",
       "      <td>89.958333</td>\n",
       "    </tr>\n",
       "    <tr>\n",
       "      <th>75%</th>\n",
       "      <td>91.520833</td>\n",
       "      <td>90.625000</td>\n",
       "      <td>91.583333</td>\n",
       "    </tr>\n",
       "    <tr>\n",
       "      <th>max</th>\n",
       "      <td>93.750000</td>\n",
       "      <td>95.000000</td>\n",
       "      <td>93.750000</td>\n",
       "    </tr>\n",
       "  </tbody>\n",
       "</table>\n",
       "</div>"
      ],
      "text/plain": [
       "          ntd_rd       nmd1       nmd2\n",
       "count  30.000000  30.000000  30.000000\n",
       "mean   89.680556  88.980556  89.155556\n",
       "std     2.162251   2.589646   3.074952\n",
       "min    84.833333  83.166667  81.000000\n",
       "25%    87.916667  87.479167  87.270833\n",
       "50%    89.625000  89.208333  89.958333\n",
       "75%    91.520833  90.625000  91.583333\n",
       "max    93.750000  95.000000  93.750000"
      ]
     },
     "execution_count": 30,
     "metadata": {},
     "output_type": "execute_result"
    }
   ],
   "source": [
    "data.describe()"
   ]
  },
  {
   "cell_type": "code",
   "execution_count": 35,
   "metadata": {},
   "outputs": [
    {
     "data": {
      "text/plain": [
       "<matplotlib.axes._subplots.AxesSubplot at 0x7f2c84c20a58>"
      ]
     },
     "execution_count": 35,
     "metadata": {},
     "output_type": "execute_result"
    },
    {
     "data": {
      "image/png": "[encoded data removed]",
      "text/plain": [
       "<Figure size 432x288 with 1 Axes>"
      ]
     },
     "metadata": {},
     "output_type": "display_data"
    }
   ],
   "source": [
    "import seaborn as sns\n",
    "%matplotlib inline\n",
    "sns.set(style=\"whitegrid\")\n",
    "sns.violinplot(data=data)"
   ]
  },
  {
   "cell_type": "code",
   "execution_count": 28,
   "metadata": {},
   "outputs": [
    {
     "name": "stdout",
     "output_type": "stream",
     "text": [
      "<class 'pandas.core.frame.DataFrame'>\n"
     ]
    }
   ],
   "source": [
    "\n",
    "import os\n",
    "path = \"./Cache/c700-ntd/\" #文件夹目录\n",
    "files= os.listdir(path) #得到文件夹下的所有文件名称\n",
    "#print(files)\n",
    "#print(type(files))\n",
    "ntdAcc7 = []\n",
    "for file in files:\n",
    "    #print(type(file))\n",
    "    if '.mat' in file :\n",
    "        filename = path+file\n",
    "        a = getAcc(filename)\n",
    "        ntdAcc7.append(a)\n",
    "        \n",
    "path = \"./Cache/c700-nmd1/\" #文件夹目录\n",
    "files= os.listdir(path) #得到文件夹下的所有文件名称 \n",
    "nmd17 = []\n",
    "for file in files:\n",
    "    #print(type(file))\n",
    "    if '.mat' in file :\n",
    "        filename = path+file\n",
    "        #print(filename)\n",
    "        a = getAcc(filename)\n",
    "        #print(a)\n",
    "        nmd17.append(a)\n",
    "\n",
    "path = \"./Cache/c700-nmd2/\" #文件夹目录\n",
    "files= os.listdir(path) #得到文件夹下的所有文件名称\n",
    "#print(files)\n",
    "#print(type(files))\n",
    "nmd27 = []\n",
    "for file in files:\n",
    "    #print(type(file))\n",
    "    if '.mat' in file :\n",
    "        filename = path+file\n",
    "        #print(filename)\n",
    "        a = getAcc(filename)\n",
    "        #print(a)\n",
    "        nmd27.append(a)\n",
    "        \n",
    "import numpy as np\n",
    "data7 = np.concatenate((ntdAcc7,nmd17,nmd27))\n",
    "data7 = data7.reshape(3,30)\n",
    "data7 = np.transpose(data7)\n",
    "import pandas as pd\n",
    "data7 = pd.DataFrame(data7)\n",
    "data7.columns = ['ntd7','nmd17','nmd27']\n",
    "print(type(data7))\n",
    "#data7"
   ]
  },
  {
   "cell_type": "code",
   "execution_count": 29,
   "metadata": {},
   "outputs": [
    {
     "data": {
      "text/html": [
       "<div>\n",
       "<style scoped>\n",
       "    .dataframe tbody tr th:only-of-type {\n",
       "        vertical-align: middle;\n",
       "    }\n",
       "\n",
       "    .dataframe tbody tr th {\n",
       "        vertical-align: top;\n",
       "    }\n",
       "\n",
       "    .dataframe thead th {\n",
       "        text-align: right;\n",
       "    }\n",
       "</style>\n",
       "<table border=\"1\" class=\"dataframe\">\n",
       "  <thead>\n",
       "    <tr style=\"text-align: right;\">\n",
       "      <th></th>\n",
       "      <th>ntd7</th>\n",
       "      <th>nmd17</th>\n",
       "      <th>nmd27</th>\n",
       "    </tr>\n",
       "  </thead>\n",
       "  <tbody>\n",
       "    <tr>\n",
       "      <th>count</th>\n",
       "      <td>30.000000</td>\n",
       "      <td>30.000000</td>\n",
       "      <td>30.000000</td>\n",
       "    </tr>\n",
       "    <tr>\n",
       "      <th>mean</th>\n",
       "      <td>98.123810</td>\n",
       "      <td>98.142857</td>\n",
       "      <td>98.633333</td>\n",
       "    </tr>\n",
       "    <tr>\n",
       "      <th>std</th>\n",
       "      <td>0.927895</td>\n",
       "      <td>1.489820</td>\n",
       "      <td>0.612655</td>\n",
       "    </tr>\n",
       "    <tr>\n",
       "      <th>min</th>\n",
       "      <td>95.285714</td>\n",
       "      <td>91.571429</td>\n",
       "      <td>97.142857</td>\n",
       "    </tr>\n",
       "    <tr>\n",
       "      <th>25%</th>\n",
       "      <td>97.464286</td>\n",
       "      <td>97.892857</td>\n",
       "      <td>98.214286</td>\n",
       "    </tr>\n",
       "    <tr>\n",
       "      <th>50%</th>\n",
       "      <td>98.285714</td>\n",
       "      <td>98.285714</td>\n",
       "      <td>98.714286</td>\n",
       "    </tr>\n",
       "    <tr>\n",
       "      <th>75%</th>\n",
       "      <td>98.857143</td>\n",
       "      <td>98.857143</td>\n",
       "      <td>99.000000</td>\n",
       "    </tr>\n",
       "    <tr>\n",
       "      <th>max</th>\n",
       "      <td>99.428571</td>\n",
       "      <td>100.000000</td>\n",
       "      <td>99.857143</td>\n",
       "    </tr>\n",
       "  </tbody>\n",
       "</table>\n",
       "</div>"
      ],
      "text/plain": [
       "            ntd7       nmd17      nmd27\n",
       "count  30.000000   30.000000  30.000000\n",
       "mean   98.123810   98.142857  98.633333\n",
       "std     0.927895    1.489820   0.612655\n",
       "min    95.285714   91.571429  97.142857\n",
       "25%    97.464286   97.892857  98.214286\n",
       "50%    98.285714   98.285714  98.714286\n",
       "75%    98.857143   98.857143  99.000000\n",
       "max    99.428571  100.000000  99.857143"
      ]
     },
     "execution_count": 29,
     "metadata": {},
     "output_type": "execute_result"
    }
   ],
   "source": [
    "data7.describe()"
   ]
  },
  {
   "cell_type": "code",
   "execution_count": 7,
   "metadata": {},
   "outputs": [
    {
     "data": {
      "text/plain": [
       "<matplotlib.axes._subplots.AxesSubplot at 0x7f2c870957f0>"
      ]
     },
     "execution_count": 7,
     "metadata": {},
     "output_type": "execute_result"
    },
    {
     "data": {
      "image/png": "[encoded data removed]",
      "text/plain": [
       "<Figure size 432x288 with 1 Axes>"
      ]
     },
     "metadata": {},
     "output_type": "display_data"
    }
   ],
   "source": [
    "import seaborn as sns\n",
    "%matplotlib inline\n",
    "sns.set(style=\"whitegrid\")\n",
    "sns.violinplot(data=data)"
   ]
  },
  {
   "cell_type": "code",
   "execution_count": null,
   "metadata": {},
   "outputs": [],
   "source": [
    "\n"
   ]
  },
  {
   "cell_type": "code",
   "execution_count": null,
   "metadata": {},
   "outputs": [],
   "source": []
  }
 ],
 "metadata": {
  "kernelspec": {
   "display_name": "Python 3",
   "language": "python",
   "name": "python3"
  },
  "language_info": {
   "codemirror_mode": {
    "name": "ipython",
    "version": 3
   },
   "file_extension": ".py",
   "mimetype": "text/x-python",
   "name": "python",
   "nbconvert_exporter": "python",
   "pygments_lexer": "ipython3",
   "version": "3.5.2"
  }
 },
 "nbformat": 4,
 "nbformat_minor": 2
}
